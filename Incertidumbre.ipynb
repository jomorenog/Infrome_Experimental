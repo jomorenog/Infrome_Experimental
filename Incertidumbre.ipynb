{
 "cells": [
  {
   "cell_type": "code",
   "execution_count": 1,
   "metadata": {
    "ExecuteTime": {
     "end_time": "2022-11-13T23:03:10.497318Z",
     "start_time": "2022-11-13T23:03:10.298289Z"
    }
   },
   "outputs": [],
   "source": [
    "import numpy as np \n",
    "from uncertainties import ufloat"
   ]
  },
  {
   "cell_type": "code",
   "execution_count": 24,
   "metadata": {
    "ExecuteTime": {
     "end_time": "2022-11-13T23:10:47.304001Z",
     "start_time": "2022-11-13T23:10:47.297015Z"
    }
   },
   "outputs": [],
   "source": [
    "mu_para = ufloat(0.155, 0.005)\n",
    "mu2_para = 8.846e-2\n",
    "\n",
    "mu_arena = ufloat(0.130, 0.002)\n",
    "mu2_arena = 7.702e-2"
   ]
  },
  {
   "cell_type": "code",
   "execution_count": 25,
   "metadata": {
    "ExecuteTime": {
     "end_time": "2022-11-13T23:10:55.021737Z",
     "start_time": "2022-11-13T23:10:55.008832Z"
    }
   },
   "outputs": [
    {
     "name": "stdout",
     "output_type": "stream",
     "text": [
      "rho parafina = 1.75+/-0.06 g/cm³\n",
      "rho arena = 1.688+/-0.026 g/cm³\n"
     ]
    }
   ],
   "source": [
    "## rho = mu/mu'\n",
    "rho_para = mu_para/mu2_para\n",
    "rho_arena = mu_arena/mu2_arena\n",
    "\n",
    "print (f'rho parafina = {rho_para} g/cm³')\n",
    "print (f'rho arena = {rho_arena} g/cm³')"
   ]
  },
  {
   "cell_type": "code",
   "execution_count": 37,
   "metadata": {
    "ExecuteTime": {
     "end_time": "2022-11-13T23:32:40.820432Z",
     "start_time": "2022-11-13T23:32:40.807393Z"
    }
   },
   "outputs": [
    {
     "name": "stdout",
     "output_type": "stream",
     "text": [
      "m/V parafina = 0.879+/-0.006 g/cm³\n",
      "m/V arena    = 1.54+/-0.14 g/cm³\n"
     ]
    }
   ],
   "source": [
    "masa_para = ufloat(225,1)\n",
    "masa_arena = ufloat(155,14)\n",
    "\n",
    "ancho_para = ufloat(8.05,0.01)\n",
    "alto_para = ufloat(16.30,0.01)\n",
    "grosor_para= ufloat(1.95,0.01)\n",
    "\n",
    "ancho_arena = ufloat(10.04,0.01)\n",
    "alto_arena =  ufloat(10.04,0.01)\n",
    "grosor_arena = ufloat(1.00,0.01)\n",
    "\n",
    "volumen_para = ancho_para * alto_para * grosor_para\n",
    "volumen_arena = ancho_arena * alto_arena * grosor_arena\n",
    "\n",
    "print (f'm/V parafina = {masa_para/volumen_para} g/cm³')\n",
    "print (f'm/V arena    = {masa_arena/volumen_arena} g/cm³')"
   ]
  }
 ],
 "metadata": {
  "kernelspec": {
   "display_name": "Python 3 (ipykernel)",
   "language": "python",
   "name": "python3"
  },
  "language_info": {
   "codemirror_mode": {
    "name": "ipython",
    "version": 3
   },
   "file_extension": ".py",
   "mimetype": "text/x-python",
   "name": "python",
   "nbconvert_exporter": "python",
   "pygments_lexer": "ipython3",
   "version": "3.10.8"
  }
 },
 "nbformat": 4,
 "nbformat_minor": 4
}
